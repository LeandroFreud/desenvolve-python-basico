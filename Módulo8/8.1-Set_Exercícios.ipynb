{
 "cells": [
  {
   "cell_type": "markdown",
   "id": "0d5035b5",
   "metadata": {},
   "source": [
    "# Set\n",
    "\n",
    "## Aula 8.1"
   ]
  },
  {
   "cell_type": "markdown",
   "id": "0bdece85",
   "metadata": {},
   "source": [
    "### Q1. \n",
    "\n",
    "Dada uma string qualquer, use seu conhecimento de sets para apresentar os caracteres únicos que aparecem na string, ordenados alfabeticamente e sem duplicatas. Preste atenção em duplicatas de maiúsculas e minúsculas.\n"
   ]
  },
  {
   "cell_type": "code",
   "execution_count": null,
   "id": "0a258eba",
   "metadata": {},
   "outputs": [],
   "source": [
    "frase = \"O rato roeu a roupa do Robson\"\n",
    "\n",
    "## Implemente aqui sua solução\n",
    "# Converta a string para minúsculas para evitar duplicatas de maiúsculas e minúsculas\n",
    "frase_minusculas = frase.lower()\n",
    "\n",
    "# Crie um conjunto com os caracteres únicos da string\n",
    "caracteres_unicos = set(frase_minusculas)\n",
    "\n",
    "# Converta o conjunto em uma lista e ordene-a alfabeticamente\n",
    "caracteres_unicos_ordenados = sorted(list(caracteres_unicos))\n",
    "\n",
    "# Imprima os caracteres únicos ordenados\n",
    "print(caracteres_unicos_ordenados)\n"
   ]
  },
  {
   "cell_type": "markdown",
   "id": "0856bd56",
   "metadata": {},
   "source": [
    "### Q2\n",
    "\n",
    "Desenvolva uma função em Python chamada ```tem_elementos_comuns()``` que recebe duas listas como parâmetros e retorna True se houver algum elemento comum entre as duas listas, e False caso contrário. Utilize sets para resolver essa tarefa."
   ]
  },
  {
   "cell_type": "code",
   "execution_count": null,
   "id": "f7ab6736",
   "metadata": {},
   "outputs": [],
   "source": [
    "# Implemente aqui a função tem_elementos_comuns()\n",
    "\n",
    "   Args:\n",
    "        lista1 (list): A primeira lista.\n",
    "        lista2 (list): A segunda lista.\n",
    "\n",
    "    Returns:\n",
    "        bool: True se houver elementos comuns, False caso contrário.\n",
    "    \"\"\"\n",
    "    # Converta as listas para conjuntos (sets)\n",
    "    conjunto1 = set(lista1)\n",
    "    conjunto2 = set(lista2)\n",
    "\n",
    "    # Verifique se há intersecção entre os conjuntos\n",
    "    return conjunto1 & conjunto2 != set()\n",
    "\n"
   ]
  },
  {
   "cell_type": "code",
   "execution_count": null,
   "id": "1022744a",
   "metadata": {},
   "outputs": [],
   "source": [
    "# Execute esta célula para testar a função da Q2.\n",
    "\n",
    "lista1 = [1, 2, 3, 4]\n",
    "lista2 = [3, 4, 5, 6, 7]\n",
    "resultado = tem_elementos_comuns(lista1, lista2)\n",
    "print(resultado)  # Saída esperada: True\n",
    "\n"
   ]
  },
  {
   "cell_type": "markdown",
   "id": "649a5082",
   "metadata": {},
   "source": [
    "### Q3. \n",
    "\n",
    "Você vai coletar de diferentes turmas de alunos seus interesses em atividades extra curriculares dentre futebol, vôlei, rugby, música, teatro, ações comunitárias. Informe o conjunto de atividades comuns a todas a turmas. Pode preencher o iterável turmas com valores arbitrários. \n"
   ]
  },
  {
   "cell_type": "code",
   "execution_count": null,
   "id": "880a9927",
   "metadata": {},
   "outputs": [],
   "source": [
    "turmas = [\n",
    "     {'ações comunitárias', 'futebol', 'música', 'rugby'},\n",
    "     {'ações comunitárias', 'música', 'rugby', 'teatro'},\n",
    "     {'música', 'rugby', 'teatro', 'vôlei'},\n",
    "     {'música', 'vôlei', 'rugby'},\n",
    "     {'ações comunitárias', 'futebol', 'rugby', 'teatro', 'vôlei'},\n",
    "     {'ações comunitárias', 'futebol', 'rugby'},\n",
    "     {'ações comunitárias', 'rugby', 'teatro', 'vôlei'},\n",
    "     {'ações comunitárias', 'rugby', 'teatro', 'vôlei'},\n",
    "     {'ações comunitárias', 'rugby', 'vôlei'}\n",
    "]\n",
    "## Implemente aqui sua solução\n",
    "# Encontre a intersecção de todos os conjuntos\n",
    "atividades_comuns = set.intersection(*turmas)\n",
    "\n",
    "print(atividades_comuns)\n",
    "\n"
   ]
  },
  {
   "cell_type": "markdown",
   "id": "021e2b1e",
   "metadata": {},
   "source": [
    "### Q4. \n",
    "Considere duas listas que são duplicatas uma da outra, exceto por um elemento, exemplo:\n",
    "```\n",
    "A = [1, 4, 5, 7, 9]\n",
    "B = [4, 5, 7, 9]\n",
    "```\n",
    "\n",
    "Encontre e apresente o elemento diferente, informando também qual das listas está desfalcada. Para o exemplo acima, a saída esperada é\n",
    "```\n",
    "O elemento 1 está faltando na segunda lista\n",
    "```"
   ]
  },
  {
   "cell_type": "code",
   "execution_count": null,
   "id": "608761a4",
   "metadata": {},
   "outputs": [],
   "source": [
    "## Implemente aqui sua solução\n",
    "\n",
    "def encontrar_elemento_diferente(lista1, lista2):\n",
    "    # Encontrar o elemento diferente\n",
    "    if len(lista1) > len(lista2):\n",
    "        elemento_diferente = (set(lista1) - set(lista2)).pop()\n",
    "        lista_desfalcada = \"segunda\"\n",
    "    else:\n",
    "        elemento_diferente = (set(lista2) - set(lista1)).pop()\n",
    "        lista_desfalcada = \"primeira\"\n",
    "\n",
    "    # Imprimir o resultado\n",
    "    print(f\"O elemento {elemento_diferente} está faltando na {lista_desfalcada} lista.\")\n",
    "\n",
    "    # Testar o código\n",
    "A = [1, 4, 5, 7, 9]\n",
    "B = [4, 5, 7, 9]\n",
    "encontrar_elemento_diferente(A, B)"
   ]
  },
  {
   "cell_type": "markdown",
   "id": "ddf180c1",
   "metadata": {},
   "source": [
    "### Q5.\n",
    "\n",
    "Panagramas são frases que contém todas as letras do alfabeto pelo menos uma vez. Crie uma função ```checa_panagrama``` que recebe uma string e retorna ```True``` caso seja um panagrama ou ```False```caso contrário. Use seu conhecimento de sets para solucionar essa questão.\n",
    "\n",
    "Ex: \n",
    "```\n",
    "Entrada: \"The quick brown fox jumps over the lazy dog\" \n",
    "Saída: É um panagrama\n",
    "```\n",
    "\n",
    "```\n",
    "Entrada: \"Python é uma linguagem de programação\" \n",
    "Saída: Não é um panagrama\n",
    "```"
   ]
  },
  {
   "cell_type": "code",
   "execution_count": null,
   "id": "4e8b0390",
   "metadata": {},
   "outputs": [],
   "source": [
    "## Implemente aqui sua solução\n",
    "\n",
    "def checa_panagrama(frase):\n",
    "    # Converter a frase para minúsculas\n",
    "    frase = frase.lower()\n",
    "    \n",
    "    # Remover espaços e pontuações\n",
    "    frase = ''.join(e for e in frase if e.isalnum())\n",
    "    \n",
    "    # Verificar se a frase contém todas as letras do alfabeto\n",
    "    alfabeto = set('abcdefghijklmnopqrstuvwxyz')\n",
    "    return set(frase) >= alfabeto\n",
    "\n",
    "# Testar a função\n",
    "frase1 = \"The quick brown fox jumps over the lazy dog\"\n",
    "frase2 = \"Python é uma linguagem de programação\"\n",
    "\n",
    "if checa_panagrama(frase1):\n",
    "    print(f'\" {frase1}\" é um panagrama')\n",
    "else:\n",
    "    print(f'\" {frase1}\" não é um panagrama')\n",
    "\n",
    "if checa_panagrama(frase2):\n",
    "    print(f'\" {frase2}\" é um panagrama')\n",
    "else:\n",
    "    print(f'\" {frase2}\" não é um panagrama')"
   ]
  }
 ],
 "metadata": {
  "kernelspec": {
   "display_name": "Python 3 (ipykernel)",
   "language": "python",
   "name": "python3"
  },
  "language_info": {
   "codemirror_mode": {
    "name": "ipython",
    "version": 3
   },
   "file_extension": ".py",
   "mimetype": "text/x-python",
   "name": "python",
   "nbconvert_exporter": "python",
   "pygments_lexer": "ipython3",
   "version": "3.10.12"
  }
 },
 "nbformat": 4,
 "nbformat_minor": 5
}
