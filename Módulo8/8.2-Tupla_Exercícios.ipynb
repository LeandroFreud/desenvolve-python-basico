{
 "cells": [
  {
   "cell_type": "markdown",
   "id": "0d5035b5",
   "metadata": {},
   "source": [
    "# Tupla\n",
    "\n",
    "## Aula 8.2"
   ]
  },
  {
   "cell_type": "markdown",
   "id": "0bdece85",
   "metadata": {},
   "source": [
    "### Q1. \n",
    "\n",
    "Escreva uma função ```calcula_area_perimetro``` que recebe **apenas um parâmetro** ```dimensoes``` e calcula a área e o perímetro a partir das dimensões dadas. \n",
    "- ```dimensoes``` é uma tupla (largura, comprimento) com as dimensões de um terreno retangular\n",
    "- Sua função deve calcular e retornar as seguintes operações\n",
    "   - $area = largura \\times comprimento$\n",
    "   - $perimetro = 2\\times(largura + comprimento)$\n"
   ]
  },
  {
   "cell_type": "code",
   "execution_count": null,
   "id": "0a258eba",
   "metadata": {},
   "outputs": [],
   "source": [
    "# Implemente aqui a função calcula_area_perimetro\n",
    "\n",
    "def calcula_area_perimetro(dimensoes):\n",
    "    \"\"\"\n",
    "    Calcula a área e o perímetro de um terreno retangular.\n",
    "\n",
    "    Args:\n",
    "        dimensoes (tuple): Uma tupla (largura, comprimento) com as dimensões do terreno.\n",
    "\n",
    "    Returns:\n",
    "        tuple: Uma tupla (area, perimetro) com os resultados dos cálculos.\n",
    "    \"\"\"\n",
    "    # Desempacotar as dimensões\n",
    "    largura, comprimento = dimensoes\n",
    "\n",
    "    # Calcular a área\n",
    "    area = largura * comprimento\n",
    "\n",
    "    # Calcular o perímetro\n",
    "    perimetro = 2 * (largura + comprimento)\n",
    "\n",
    "    # Retornar os resultados\n",
    "    return area, perimetro\n",
    "\n",
    "# Testar a função\n",
    "dimensoes = (5, 7)\n",
    "area, perimetro = calcula_area_perimetro(dimensoes)\n",
    "print(f\"Área: {area} m²\")\n",
    "print(f\"Perímetro: {perimetro} m\")\n"
   ]
  },
  {
   "cell_type": "code",
   "execution_count": null,
   "id": "e1866c04",
   "metadata": {},
   "outputs": [],
   "source": [
    "# Complete o exemplo de uso abaixo\n",
    "largura = 5\n",
    "comprimento = 7\n",
    "\n",
    "retorno = ## complete aqui a chamada da função\n",
    "print(retorno, type(retorno))"
   ]
  },
  {
   "cell_type": "markdown",
   "id": "cbdcb986",
   "metadata": {},
   "source": [
    "### Q2.\n",
    "\n",
    "Dada uma string, imprima todas as vogais que aparecem na string, bem como todos os índices onde elas ocorrem. Para isso, use a função ```enumerate```.\n"
   ]
  },
  {
   "cell_type": "code",
   "execution_count": null,
   "id": "1f6b1f2d",
   "metadata": {},
   "outputs": [],
   "source": [
    "frase = \"O rato roeu a roupa da Alice\"\n",
    "\n",
    "# Implemente aqui sua solução\n",
    "\n",
    "frase = \"O rato roeu a roupa da Alice\"\n",
    "\n",
    "# Defina as vogais\n",
    "vogais = 'aeiouAEIOU'\n",
    "\n",
    "# Use enumerate para iterar sobre a string e imprimir as vogais e seus índices\n",
    "for indice, letra in enumerate(frase):\n",
    "    if letra in vogais:\n",
    "        print(f\"Vogal '{letra}' encontrada no índice {indice}\")"
   ]
  },
  {
   "cell_type": "markdown",
   "id": "8d46663f",
   "metadata": {},
   "source": [
    "### Q3.\n",
    "\n",
    "Escreva uma função em Python chamada ```ordenar_tuplas``` que recebe uma lista de tuplas, cada uma contendo o nome de um aluno e sua respectiva média, e retorna uma nova lista ordenada em ordem decrescente de médias."
   ]
  },
  {
   "cell_type": "code",
   "execution_count": null,
   "id": "469f2e6e",
   "metadata": {},
   "outputs": [],
   "source": [
    "# Implemente aqui a função ordenar_tuplas\n",
    "\n",
    "\n",
    "def ordenar_tuplas(alunos):\n",
    "    \"\"\"\n",
    "    Ordena uma lista de tuplas contendo o nome de um aluno e sua média\n",
    "    em ordem decrescente de médias.\n",
    "\n",
    "    Args:\n",
    "        alunos (list): Lista de tuplas (nome, média)\n",
    "\n",
    "    Returns:\n",
    "        list: Lista de tuplas ordenada em ordem decrescente de médias\n",
    "    \"\"\"\n",
    "    # Use a função sorted com uma chave lambda para ordenar as tuplas\n",
    "    return sorted(alunos, key=lambda x: x[1], reverse=True)\n",
    "\n",
    "# Exemplo de uso\n",
    "alunos = [\n",
    "    (\"João\", 8.5),\n",
    "    (\"Maria\", 9.2),\n",
    "    (\"Pedro\", 7.8),\n",
    "    (\"Ana\", 9.5),\n",
    "    (\"Luiz\", 8.2)\n",
    "]\n",
    "\n",
    "alunos_ordenados = ordenar_tuplas(alunos)\n",
    "print(alunos_ordenados)"
   ]
  },
  {
   "cell_type": "code",
   "execution_count": null,
   "id": "1972c62b",
   "metadata": {},
   "outputs": [],
   "source": [
    "# Exemplo de uso:\n",
    "alunos_notas = [('Alice', 8.5), ('Bob', 7.2), ('Charlie', 9.0), ('David', 8.8)]\n",
    "resultado = ordenar_tuplas(alunos_notas)\n",
    "print(resultado)\n",
    "# Saída esperada: [('Charlie', 9.0), ('David', 8.8), ('Alice', 8.5), ('Bob', 7.2)]"
   ]
  },
  {
   "cell_type": "markdown",
   "id": "e0268fae",
   "metadata": {},
   "source": [
    "### Q4.\n",
    "\n",
    "Escreva uma função em Python chamada ```comprimir_tuplas``` que recebe uma lista de tuplas, cada uma contendo uma palavra e um número, e retorna uma nova lista de tuplas onde palavras idênticas são agrupadas e seus números são somados.\n",
    "\n"
   ]
  },
  {
   "cell_type": "code",
   "execution_count": null,
   "id": "30a221f3",
   "metadata": {},
   "outputs": [],
   "source": [
    "# Implemente aqui a função comprimir_tuplas\n",
    "def comprimir_tuplas(tuplas):\n",
    "    \"\"\"\n",
    "    Comprime uma lista de tuplas contendo uma palavra e um número,\n",
    "    agrupando palavras idênticas e somando seus números.\n",
    "\n",
    "    Args:\n",
    "        tuplas (list): Lista de tuplas (palavra, número)\n",
    "\n",
    "    Returns:\n",
    "        list: Lista de tuplas comprimida\n",
    "    \"\"\"\n",
    "    # Crie um dicionário para armazenar as palavras e seus números somados\n",
    "    dicionario = {}\n",
    "    for palavra, numero in tuplas:\n",
    "        if palavra in dicionario:\n",
    "            dicionario[palavra] += numero\n",
    "        else:\n",
    "            dicionario[palavra] = numero\n",
    "\n",
    "    # Converta o dicionário em uma lista de tuplas\n",
    "    comprimido = [(palavra, numero) for palavra, numero in dicionario.items()]\n",
    "\n",
    "    return comprimido\n",
    "\n",
    "# Exemplo de uso\n",
    "tuplas = [\n",
    "    (\"maçã\", 5),\n",
    "    (\"banana\", 3),\n",
    "    (\"maçã\", 2),\n",
    "    (\"laranja\", 4),\n",
    "    (\"banana\", 1)\n",
    "]\n",
    "\n",
    "comprimido = comprimir_tuplas(tuplas)\n",
    "print(comprimido)"
   ]
  },
  {
   "cell_type": "code",
   "execution_count": null,
   "id": "80972bac",
   "metadata": {},
   "outputs": [],
   "source": [
    "# Exemplo de uso:\n",
    "tuplas_originais = [('maçã', 3), ('banana', 2), ('maçã', 5), ('laranja', 1), ('banana', 3)]\n",
    "resultado = comprimir_tuplas(tuplas_originais)\n",
    "print(resultado)\n",
    "# Saída esperada: [('maçã', 8), ('banana', 5), ('laranja', 1)]"
   ]
  },
  {
   "cell_type": "markdown",
   "id": "649a5082",
   "metadata": {},
   "source": [
    "### Q5. \n",
    "\n",
    "- Escreva um script que peça o nome e a idade de todos na fila de uma balada. Crie uma lista de tuplas com os pares ```(nome, idade)``` de cada um. \n",
    "- Em seguida crie e imprima duas tuplas apenas com os nomes, uma com os menores de idade que não poderão entrar, e uma com os maiores de idade (```idade >= 18```). \n",
    "\n"
   ]
  },
  {
   "cell_type": "code",
   "execution_count": null,
   "id": "47cb0573",
   "metadata": {},
   "outputs": [],
   "source": [
    "## Implemente aqui sua solução\n",
    "\n",
    "def verificar_idade():\n",
    "    fila = []\n",
    "    while True:\n",
    "        nome = input(\"Digite o nome (ou 'sair' para finalizar): \")\n",
    "        if nome.lower() == 'sair':\n",
    "            break\n",
    "        idade = int(input(\"Digite a idade: \"))\n",
    "        fila.append((nome, idade))\n",
    "\n",
    "    menores = tuple(nome for nome, idade in fila if idade < 18)\n",
    "    maiores = tuple(nome for nome, idade in fila if idade >= 18)\n",
    "\n",
    "    print(\"\\nMenores de idade que não poderão entrar:\")\n",
    "    print(menores)\n",
    "    print(\"\\nMaiores de idade que poderão entrar:\")\n",
    "    print(maiores)\n",
    "\n",
    "verificar_idade()"
   ]
  }
 ],
 "metadata": {
  "kernelspec": {
   "display_name": "Python 3 (ipykernel)",
   "language": "python",
   "name": "python3"
  },
  "language_info": {
   "codemirror_mode": {
    "name": "ipython",
    "version": 3
   },
   "file_extension": ".py",
   "mimetype": "text/x-python",
   "name": "python",
   "nbconvert_exporter": "python",
   "pygments_lexer": "ipython3",
   "version": "3.10.12"
  }
 },
 "nbformat": 4,
 "nbformat_minor": 5
}
